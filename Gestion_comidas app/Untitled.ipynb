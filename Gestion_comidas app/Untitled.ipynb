{
 "cells": [
  {
   "cell_type": "code",
   "execution_count": 1,
   "id": "44d57c9c",
   "metadata": {},
   "outputs": [],
   "source": [
    "import pandas as pd"
   ]
  },
  {
   "cell_type": "code",
   "execution_count": 4,
   "id": "a49cd77e",
   "metadata": {},
   "outputs": [],
   "source": [
    "a ={\"casa\":\"1\", \"lampara\":\"cara\"}"
   ]
  },
  {
   "cell_type": "code",
   "execution_count": 5,
   "id": "c387e62f",
   "metadata": {},
   "outputs": [
    {
     "data": {
      "text/plain": [
       "{'casa': '1', 'lampara': 'cara'}"
      ]
     },
     "execution_count": 5,
     "metadata": {},
     "output_type": "execute_result"
    }
   ],
   "source": [
    "a"
   ]
  },
  {
   "cell_type": "code",
   "execution_count": 6,
   "id": "10d353d9",
   "metadata": {},
   "outputs": [
    {
     "name": "stdout",
     "output_type": "stream",
     "text": [
      "casa lampara\n"
     ]
    }
   ],
   "source": [
    "def ver(a):\n",
    "    print(*a)\n",
    "\n",
    "ver(a)"
   ]
  },
  {
   "cell_type": "code",
   "execution_count": 8,
   "id": "a08d6118",
   "metadata": {},
   "outputs": [],
   "source": [
    "import sqlalchemy as db\n",
    "import os, sys"
   ]
  },
  {
   "cell_type": "code",
   "execution_count": 81,
   "id": "49b34590",
   "metadata": {},
   "outputs": [],
   "source": [
    "        engine = db.create_engine('sqlite:///Sobras.db')\n",
    "        # self.engine = db.create_engine(resource_path('Sobras.db'))\n",
    "        connection = engine.connect()\n",
    "        metadata = db.MetaData()\n",
    "\n",
    "        entrada_comida = db.Table('Entradas', metadata,\n",
    "              db.Column('id', db.Integer(),primary_key=True),\n",
    "              db.Column('nombre', db.String(255), nullable=False),\n",
    "              db.Column('tipo', db.String(255), nullable=False),\n",
    "              db.Column('fecha_entrada', db.Date() , default=True)\n",
    "              )\n",
    "\n",
    "        tabla_tipos = db.Table('Tipos', metadata,\n",
    "              db.Column('tipo', db.String(50),primary_key=True),\n",
    "              db.Column('naranja', db.Integer(), nullable=False),\n",
    "              db.Column('rojo', db.Integer(), nullable=False) )\n",
    "\n",
    "        metadata.create_all(engine) #Creates the table   "
   ]
  },
  {
   "cell_type": "code",
   "execution_count": 82,
   "id": "c6d6b904",
   "metadata": {},
   "outputs": [
    {
     "data": {
      "text/plain": [
       "[(2, 'filete', 'carne', datetime.date(2023, 1, 18))]"
      ]
     },
     "execution_count": 82,
     "metadata": {},
     "output_type": "execute_result"
    }
   ],
   "source": [
    "# QUERY\n",
    "query = db.select(entrada_comida)\n",
    "result_Proxy = connection.execute(query)\n",
    "result = result_Proxy.fetchall()\n",
    "result"
   ]
  },
  {
   "cell_type": "code",
   "execution_count": 29,
   "id": "2397a5c4",
   "metadata": {},
   "outputs": [],
   "source": [
    "import datetime"
   ]
  },
  {
   "cell_type": "code",
   "execution_count": 42,
   "id": "9198332a",
   "metadata": {},
   "outputs": [
    {
     "data": {
      "text/plain": [
       "datetime.datetime(2020, 5, 18, 0, 0)"
      ]
     },
     "execution_count": 42,
     "metadata": {},
     "output_type": "execute_result"
    }
   ],
   "source": [
    "datetime.datetime(2020, 5, 18)"
   ]
  },
  {
   "cell_type": "code",
   "execution_count": 45,
   "id": "5b43c4e3",
   "metadata": {},
   "outputs": [],
   "source": [
    "# date_time_obj = datetime.datetime.strptime(fecha, '%d/%m/%y %H:%M:%S')"
   ]
  },
  {
   "cell_type": "code",
   "execution_count": 46,
   "id": "0ac35b4c",
   "metadata": {},
   "outputs": [],
   "source": [
    "# date_object = datetime.datetime.strptime(fecha,'%m-%d-%Y').date()\n",
    "# date_object"
   ]
  },
  {
   "cell_type": "code",
   "execution_count": 48,
   "id": "56521b71",
   "metadata": {},
   "outputs": [],
   "source": [
    "#INSERT\n",
    "nombre = \"filete\"\n",
    "tipo = \"carne\"\n",
    "fecha = datetime.datetime(2023, 1, 18)\n",
    "query = db.insert(entrada_comida).values( nombre=nombre, tipo=tipo , fecha_entrada= fecha  ) \n",
    "ResultProxy = connection.execute(query)"
   ]
  },
  {
   "cell_type": "code",
   "execution_count": 50,
   "id": "7a8cdcc2",
   "metadata": {},
   "outputs": [],
   "source": [
    "# nombre = \"filete\"\n",
    "# tipo = \"carne\"\n",
    "# fecha = datetime.datetime(2023, 1, 18)\n",
    "# query = db.insert(entrada_comida).values( *registro  ) \n",
    "# ResultProxy = connection.execute(query)"
   ]
  },
  {
   "cell_type": "code",
   "execution_count": 18,
   "id": "734e8998",
   "metadata": {},
   "outputs": [],
   "source": [
    "registro = ('merluza', 'pescado', '2023-05-01 00:00:00')"
   ]
  },
  {
   "cell_type": "code",
   "execution_count": 71,
   "id": "50ed269d",
   "metadata": {},
   "outputs": [
    {
     "data": {
      "text/plain": [
       "'2023-05-01'"
      ]
     },
     "execution_count": 71,
     "metadata": {},
     "output_type": "execute_result"
    }
   ],
   "source": [
    "registro[2].split(\" \")[0]"
   ]
  },
  {
   "cell_type": "code",
   "execution_count": 77,
   "id": "9b4b691f",
   "metadata": {},
   "outputs": [
    {
     "data": {
      "text/plain": [
       "'2023-05-01'"
      ]
     },
     "execution_count": 77,
     "metadata": {},
     "output_type": "execute_result"
    }
   ],
   "source": [
    "fecha = registro[2].split(\" \")[0]\n",
    "if isinstance(fecha, str):\n",
    "    fecha = datetime.datetime.strptime(fecha, '%Y-%m-%d')\n",
    "fecha"
   ]
  },
  {
   "cell_type": "code",
   "execution_count": 74,
   "id": "d7a1e4be",
   "metadata": {},
   "outputs": [
    {
     "data": {
      "text/plain": [
       "datetime.datetime(2023, 5, 1, 0, 0)"
      ]
     },
     "execution_count": 74,
     "metadata": {},
     "output_type": "execute_result"
    }
   ],
   "source": [
    "datetime.datetime.strptime(registro[2].split(\" \")[0], '%Y-%m-%d')"
   ]
  },
  {
   "cell_type": "code",
   "execution_count": 64,
   "id": "2a4b770b",
   "metadata": {},
   "outputs": [
    {
     "data": {
      "text/plain": [
       "<sqlalchemy.engine.cursor.LegacyCursorResult at 0x2c6bc141590>"
      ]
     },
     "execution_count": 64,
     "metadata": {},
     "output_type": "execute_result"
    }
   ],
   "source": [
    "query = db.delete(entrada_comida)\n",
    "\n",
    "query = query.where(entrada_comida.columns.nombre == \"filete\")\\\n",
    "                    .where(entrada_comida.columns.tipo == \"carne\")\\\n",
    "                    .where(entrada_comida.columns.fecha_entrada == datetime.datetime(2020, 5, 18,0,0))  \n",
    "connection.execute(query)"
   ]
  },
  {
   "cell_type": "code",
   "execution_count": null,
   "id": "eecc56ec",
   "metadata": {},
   "outputs": [],
   "source": []
  },
  {
   "cell_type": "code",
   "execution_count": null,
   "id": "186c8029",
   "metadata": {},
   "outputs": [],
   "source": []
  },
  {
   "cell_type": "code",
   "execution_count": null,
   "id": "e7ad6f17",
   "metadata": {},
   "outputs": [],
   "source": []
  },
  {
   "cell_type": "code",
   "execution_count": null,
   "id": "cd5be9af",
   "metadata": {},
   "outputs": [],
   "source": []
  },
  {
   "cell_type": "code",
   "execution_count": null,
   "id": "9aad5e8f",
   "metadata": {},
   "outputs": [],
   "source": []
  },
  {
   "cell_type": "code",
   "execution_count": null,
   "id": "a1f00207",
   "metadata": {},
   "outputs": [],
   "source": []
  }
 ],
 "metadata": {
  "kernelspec": {
   "display_name": "Python 3 (ipykernel)",
   "language": "python",
   "name": "python3"
  },
  "language_info": {
   "codemirror_mode": {
    "name": "ipython",
    "version": 3
   },
   "file_extension": ".py",
   "mimetype": "text/x-python",
   "name": "python",
   "nbconvert_exporter": "python",
   "pygments_lexer": "ipython3",
   "version": "3.11.3"
  }
 },
 "nbformat": 4,
 "nbformat_minor": 5
}
